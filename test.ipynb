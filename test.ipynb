{
 "cells": [
  {
   "cell_type": "raw",
   "source": [
    "import pandas as ps \n",
    "data = pd.read_csv(\"data/raw/resume.csv\")"
   ],
   "metadata": {
    "collapsed": false
   },
   "id": "17b25ec21b1e8775"
  },
  {
   "cell_type": "code",
   "execution_count": 2,
   "outputs": [],
   "source": [
    "import pandas as pd\n",
    "data = pd.read_csv(\"data/raw/resume.csv\")"
   ],
   "metadata": {
    "collapsed": false,
    "ExecuteTime": {
     "end_time": "2025-01-19T14:18:13.658031600Z",
     "start_time": "2025-01-19T14:18:13.477328800Z"
    }
   },
   "id": "b009c2b5e224dc95"
  },
  {
   "cell_type": "code",
   "execution_count": 9,
   "outputs": [
    {
     "data": {
      "text/plain": "      label                                             resume\n0         0  \\n\\nSUMMARY\\n\\nAround 7 years of experience in...\n1         0  \\n\\nSUMMARY\\n\\nOver 8+ years of experience in ...\n2         0  \\n\\nSUMMARY\\n\\nPossess 5 years of work experie...\n3         0  \\n\\nSUMMARY\\n\\n7+ years of experience in SDLC ...\n4         0  \\n\\nSUMMARY\\n\\nAround 9 years of professional ...\n...     ...                                                ...\n1579     13  \\n\\nSUMMARY\\n\\nOver 6 years of experience as a...\n1580     13  \\n\\nSUMMARY\\n\\n8+ years of professional experi...\n1581     13  \\n\\nSUMMARY\\n\\n8 years of extensive work exper...\n1582     13  \\n\\nSUMMARY\\n\\nAround 08+ years of experience ...\n1583     13  \\n\\nSUMMARY\\n\\nOver 7+ years of professional e...\n\n[1584 rows x 2 columns]",
      "text/html": "<div>\n<style scoped>\n    .dataframe tbody tr th:only-of-type {\n        vertical-align: middle;\n    }\n\n    .dataframe tbody tr th {\n        vertical-align: top;\n    }\n\n    .dataframe thead th {\n        text-align: right;\n    }\n</style>\n<table border=\"1\" class=\"dataframe\">\n  <thead>\n    <tr style=\"text-align: right;\">\n      <th></th>\n      <th>label</th>\n      <th>resume</th>\n    </tr>\n  </thead>\n  <tbody>\n    <tr>\n      <th>0</th>\n      <td>0</td>\n      <td>\\n\\nSUMMARY\\n\\nAround 7 years of experience in...</td>\n    </tr>\n    <tr>\n      <th>1</th>\n      <td>0</td>\n      <td>\\n\\nSUMMARY\\n\\nOver 8+ years of experience in ...</td>\n    </tr>\n    <tr>\n      <th>2</th>\n      <td>0</td>\n      <td>\\n\\nSUMMARY\\n\\nPossess 5 years of work experie...</td>\n    </tr>\n    <tr>\n      <th>3</th>\n      <td>0</td>\n      <td>\\n\\nSUMMARY\\n\\n7+ years of experience in SDLC ...</td>\n    </tr>\n    <tr>\n      <th>4</th>\n      <td>0</td>\n      <td>\\n\\nSUMMARY\\n\\nAround 9 years of professional ...</td>\n    </tr>\n    <tr>\n      <th>...</th>\n      <td>...</td>\n      <td>...</td>\n    </tr>\n    <tr>\n      <th>1579</th>\n      <td>13</td>\n      <td>\\n\\nSUMMARY\\n\\nOver 6 years of experience as a...</td>\n    </tr>\n    <tr>\n      <th>1580</th>\n      <td>13</td>\n      <td>\\n\\nSUMMARY\\n\\n8+ years of professional experi...</td>\n    </tr>\n    <tr>\n      <th>1581</th>\n      <td>13</td>\n      <td>\\n\\nSUMMARY\\n\\n8 years of extensive work exper...</td>\n    </tr>\n    <tr>\n      <th>1582</th>\n      <td>13</td>\n      <td>\\n\\nSUMMARY\\n\\nAround 08+ years of experience ...</td>\n    </tr>\n    <tr>\n      <th>1583</th>\n      <td>13</td>\n      <td>\\n\\nSUMMARY\\n\\nOver 7+ years of professional e...</td>\n    </tr>\n  </tbody>\n</table>\n<p>1584 rows × 2 columns</p>\n</div>"
     },
     "execution_count": 9,
     "metadata": {},
     "output_type": "execute_result"
    }
   ],
   "source": [
    "data\n"
   ],
   "metadata": {
    "collapsed": false,
    "ExecuteTime": {
     "end_time": "2025-01-19T16:21:23.457433200Z",
     "start_time": "2025-01-19T16:21:23.443299300Z"
    }
   },
   "id": "e5a34f908052f982"
  },
  {
   "cell_type": "code",
   "execution_count": 5,
   "outputs": [],
   "source": [
    "unique_classes = data[\"label\"].unique()"
   ],
   "metadata": {
    "collapsed": false,
    "ExecuteTime": {
     "end_time": "2025-01-19T15:11:33.517795Z",
     "start_time": "2025-01-19T15:11:33.508112900Z"
    }
   },
   "id": "30e06c0ed99b836"
  },
  {
   "cell_type": "code",
   "execution_count": 8,
   "outputs": [
    {
     "name": "stdout",
     "output_type": "stream",
     "text": [
      "Number of classes: 14\n",
      "Class names: [ 0  2  3  5  8  9 11  1  6 10  4  7 12 13]\n"
     ]
    }
   ],
   "source": [
    "# Print the number of classes and the class names\n",
    "print(f\"Number of classes: {len(unique_classes)}\")\n",
    "print(f\"Class names: {unique_classes}\")"
   ],
   "metadata": {
    "collapsed": false,
    "ExecuteTime": {
     "end_time": "2025-01-19T15:12:17.530835Z",
     "start_time": "2025-01-19T15:12:17.518507100Z"
    }
   },
   "id": "fc68992c951e9975"
  },
  {
   "cell_type": "code",
   "execution_count": null,
   "outputs": [],
   "source": [],
   "metadata": {
    "collapsed": false
   },
   "id": "d9dc7846570241f7"
  }
 ],
 "metadata": {
  "kernelspec": {
   "display_name": "Python 3",
   "language": "python",
   "name": "python3"
  },
  "language_info": {
   "codemirror_mode": {
    "name": "ipython",
    "version": 2
   },
   "file_extension": ".py",
   "mimetype": "text/x-python",
   "name": "python",
   "nbconvert_exporter": "python",
   "pygments_lexer": "ipython2",
   "version": "2.7.6"
  }
 },
 "nbformat": 4,
 "nbformat_minor": 5
}
